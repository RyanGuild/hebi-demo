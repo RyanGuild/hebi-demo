{
 "cells": [
  {
   "cell_type": "code",
   "execution_count": null,
   "metadata": {},
   "outputs": [],
   "source": [
    "import hebi\n",
    "from time import sleep\n",
    "\n",
    "lookup = hebi.Lookup()\n",
    "# Wait 2 seconds for the module list to populate\n",
    "sleep(2.0)\n",
    "\n",
    "family_name = \"Arm\"\n",
    "module_names = [\"J1_base\", \"J2_shoulder\", \"J3_elbow\", \"J4_wrist\"]\n",
    "\n",
    "group = lookup.get_group_from_names([family_name], module_names)\n",
    "\n",
    "if group is None:\n",
    "    print('Group not found: Did you forget to set the module family and name above?')\n",
    "    exit(1)\n",
    "\n",
    "try:\n",
    "    model = hebi.robot_model.import_from_hrdf(\"arm-model.hrdf\")\n",
    "except:\n",
    "    print(\"Could not load HRDF.\")\n",
    "    exit(1)\n",
    "print(group)\n",
    "\n",
    "\n",
    "def feedback_handler(group_fbk):\n",
    "    angles = group_fbk.position\n",
    "    transform = model.get_end_effector(angles)\n",
    "\n",
    "\n",
    "group.add_feedback_handler(feedback_handler)\n",
    "group.feedback_frequency = 10.0"
   ]
  },
  {
   "cell_type": "code",
   "execution_count": null,
   "metadata": {},
   "outputs": [],
   "source": [
    "################################################################\n",
    "# Get position feedback from robot to use as initial conditions for local optimization.\n",
    "################################################################\n",
    "transform = None\n",
    "group_fbk = hebi.GroupFeedback(group.size)\n",
    "if group.get_next_feedback(reuse_fbk=group_fbk) is None:\n",
    "    print(\"Couldn't get feedback.\")\n",
    "    exit(1)\n",
    "\n",
    "def feedback_handler(group_fbk):\n",
    "    global transform\n",
    "    angles = group_fbk.position\n",
    "    transform = model.get_end_effector(angles)\n",
    "\n",
    "group.add_feedback_handler(feedback_handler)\n",
    "group.feedback_frequency = 10.0\n",
    "\n",
    "def get_position_feedback():\n",
    "    # Note: user should check if the positions are appropriate for initial conditions.\n",
    "    initial_joint_angles = group_fbk.position\n",
    "    return initial_joint_angles"
   ]
  },
  {
   "cell_type": "code",
   "execution_count": null,
   "metadata": {},
   "outputs": [],
   "source": [
    "################################################################\n",
    "# Get IK Solution with one objective\n",
    "################################################################\n",
    "\n",
    "# Just one objective:\n",
    "# Note: this is a numerical optimization and can be significantly affected by initial conditions (seed joint angles)\n",
    "def calc_ik_target_angles(target):\n",
    "    ee_pos_objective = hebi.robot_model.endeffector_position_objective(target)\n",
    "    ik_result_joint_angles = model.solve_inverse_kinematics(get_position_feedback(), ee_pos_objective)\n",
    "\n",
    "    print('Target position: {0}'.format(target))\n",
    "    print('IK joint angles: {0}'.format(ik_result_joint_angles))\n",
    "    print('FK of IK joint angles: {0}'.format(model.get_end_effector(ik_result_joint_angles)[0:3, 3]))\n",
    "    return ik_result_joint_angles"
   ]
  },
  {
   "cell_type": "code",
   "execution_count": null,
   "metadata": {},
   "outputs": [],
   "source": [
    "################################################################\n",
    "# Send commands to the physical robot\n",
    "################################################################\n",
    "\n",
    "# Move the arm\n",
    "# Note: you could use the Hebi Trajectory API to do this smoothly\n",
    "def send_group_command(ik_result_joint_angles):\n",
    "    group_command = hebi.GroupCommand(group.size)\n",
    "    group_command.position = ik_result_joint_angles\n",
    "    group.send_command(group_command)\n",
    "    "
   ]
  },
  {
   "cell_type": "code",
   "execution_count": null,
   "metadata": {},
   "outputs": [],
   "source": [
    "def get_current_position():\n",
    "    global transform\n",
    "    #print('x,y,z: {0}, {1}, {2}'.format(transform[0, 3], transform[1, 3], transform[2, 3]))\n",
    "    return (transform)"
   ]
  },
  {
   "cell_type": "code",
   "execution_count": null,
   "metadata": {},
   "outputs": [],
   "source": [
    "import numpy as np\n",
    "for _ in range(1000):\n",
    "    #print(get_current_position())\n",
    "    \n",
    "    posArray = get_current_position()\n",
    "    r = posArray[2,3]\n",
    "    theta = posArray[0,3]\n",
    "    phi = posArray[1,3]\n",
    "    \n",
    "    x=r*np.cos(theta)* np.sin(phi)*100\n",
    "    y= r*np.sin(theta)* np.sin(phi)*100\n",
    "    z= r*np.cos(theta)*100\n",
    "    \n",
    "    ra = np.sqrt((x*x) + y*y)\n",
    "    #print(\"Polar:\\n\")\n",
    "    #print([r, theta, phi])\n",
    "    #print(\"cart:\\n\")\n",
    "    print([x,y])\n",
    "    print(ra)\n",
    "    \n",
    "    sleep(1)"
   ]
  },
  {
   "cell_type": "markdown",
   "metadata": {},
   "source": [
    "## Mobile io\n",
    "- constants\n",
    "    - mobile (node group)\n",
    "    - mobile_fbk (group feedback)\n",
    "- side effects\n",
    "    - logging to /logs"
   ]
  },
  {
   "cell_type": "code",
   "execution_count": null,
   "metadata": {},
   "outputs": [],
   "source": [
    "\n",
    "from time import time\n",
    "from matplotlib import pyplot as plt\n",
    "from mpl_toolkits import mplot3d\n",
    "import numpy as np\n",
    "from scipy.spatial.transform import Rotation as R\n",
    "# Wait 2 seconds for the module list to populate\n",
    "sleep(2.0)\n",
    "\n",
    "family_name = \"HEBI\"\n",
    "module_name = \"Mobile IO\"\n",
    "\n",
    "mobile = lookup.get_group_from_names([family_name], [module_name])\n",
    "\n",
    "if mobile is None:\n",
    "    print('Group not found: Did you forget to set the module family and name above?')\n",
    "    exit(1)\n",
    "\n",
    "# Live Visualization\n",
    "# Starts logging in the background. Note that logging can be enabled at any time, and that it does not negatively\n",
    "# affect the performance of your running programs.\n",
    "mobile.start_log('dir', 'logs', mkdirs=True)\n",
    "\n",
    "\n",
    "mobile_fbk = hebi.GroupFeedback(mobile.size)  \n",
    "print(mobile, mobile_fbk) "
   ]
  },
  {
   "cell_type": "code",
   "execution_count": null,
   "metadata": {},
   "outputs": [],
   "source": [
    "def get_mobile_pose():\n",
    "    global mobile_fbk\n",
    "    mobile_fbk = mobile.get_next_feedback(reuse_fbk=mobile_fbk)\n",
    "    if mobile_fbk is None:\n",
    "        return \"Could not get feedback\"\n",
    "    orient = mobile_fbk[0].ar_orientation\n",
    "    pos = mobile_fbk[0].ar_position\n",
    "    return (pos, orient)"
   ]
  },
  {
   "cell_type": "code",
   "execution_count": null,
   "metadata": {},
   "outputs": [],
   "source": []
  }
 ],
 "metadata": {
  "kernelspec": {
   "display_name": "Python 3",
   "language": "python",
   "name": "python3"
  },
  "language_info": {
   "codemirror_mode": {
    "name": "ipython",
    "version": 3
   },
   "file_extension": ".py",
   "mimetype": "text/x-python",
   "name": "python",
   "nbconvert_exporter": "python",
   "pygments_lexer": "ipython3",
   "version": "3.7.3"
  }
 },
 "nbformat": 4,
 "nbformat_minor": 2
}